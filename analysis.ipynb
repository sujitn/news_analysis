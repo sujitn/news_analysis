{
 "cells": [
  {
   "cell_type": "code",
   "execution_count": 3,
   "metadata": {},
   "outputs": [],
   "source": [
    "import os\n",
    "import json\n",
    "import pandas as pd\n",
    "import spacy\n",
    "from urllib.request import urlopen\n",
    "from transformers import AutoTokenizer, AutoModelForSequenceClassification, pipeline, AutoModelForTokenClassification\n",
    "\n",
    "api_key = os.getenv(\"NEWS_API_KEY\")\n",
    "news_url = f'https://newsapi.org/v2/top-headlines?country=us&category=business&apiKey={api_key}'"
   ]
  },
  {
   "cell_type": "code",
   "execution_count": 4,
   "metadata": {},
   "outputs": [],
   "source": [
    "def fetch_json(url):\n",
    "    with urlopen(url) as response:\n",
    "        return json.loads(response.read().decode('utf-8'))  \n",
    "\n",
    "news_results = fetch_json(news_url)[\"articles\"]\n",
    "news_df = pd.json_normalize(news_results)"
   ]
  },
  {
   "cell_type": "code",
   "execution_count": 5,
   "metadata": {},
   "outputs": [],
   "source": [
    "def clean_text(text):\n",
    "    stripped = text.split('-', 1)[0]\n",
    "    return stripped.strip()"
   ]
  },
  {
   "cell_type": "code",
   "execution_count": 20,
   "metadata": {},
   "outputs": [
    {
     "name": "stderr",
     "output_type": "stream",
     "text": [
      "Device set to use cpu\n"
     ]
    }
   ],
   "source": [
    "tokenizer = AutoTokenizer.from_pretrained(\"ProsusAI/finbert\")\n",
    "model = AutoModelForSequenceClassification.from_pretrained(\"ProsusAI/finbert\")\n",
    "finbert_model_pipe = pipeline(\"sentiment-analysis\", model = model, tokenizer=tokenizer)"
   ]
  },
  {
   "cell_type": "code",
   "execution_count": 14,
   "metadata": {},
   "outputs": [],
   "source": [
    "nlp = spacy.load(\"en_core_web_lg\")"
   ]
  },
  {
   "cell_type": "code",
   "execution_count": 24,
   "metadata": {},
   "outputs": [
    {
     "name": "stdout",
     "output_type": "stream",
     "text": [
      "A new memecoin promoted by Trump on X and Truth Social has sent expectations of a Trump inauguration bombshell sky high...\n",
      "Crypto leaders attended a pre-inaugural bash in Washington, cheering Trump's return to the White House and hoping it will benefit digital assets.\n",
      "If you want to hang out or use the restroom at Starbucks, you’re going to have to buy something. Starbucks on Monday said it was reversing a policy that invited everyone into its stores. A new code of conduct – which will be posted in all company-owned North …\n",
      "The Wall Street Journal reports Paramount execs discussed settling a lawsuit Donald Trump filed over a 60 Minutes interview to ease the review of a Skydance merger.\n",
      "Genshin Impact developer agrees to settle with the FTC over claims its loot boxes were unfair, especially to young children and teenagers.\n",
      "The commission alleges that the retailer, whose name was redacted in the statement from commissioners, received “unfair pricing advantages” that were not made available to others.\n",
      "Meta's Mark Zuckerberg called Sheryl Sandberg \"a legend in the industry\" following a report that he had been critical of her.\n",
      "U.S. stock indexes rallied to close out their best week in two months. The S&P 500 rose 1% Friday. The Dow Jones Industrial Average climbed 0.8%, and the Nasdaq composite gained 1.5%. SLB helped lead the market after the provider of oilfield services said it …\n",
      "It is a huge pivot from recent years when central banks signed on to help address climate change.\n",
      "Elon Musk, the world’s richest man who you’d assume has something better to do, is beefing with Twitch streamer Asmongold over apparent evidence that Musk – despite his high-level characters in games like Diablo IV and Path of Exile – cheats at video games. W…\n",
      "The S&P 500 jumped 1% on Friday, Jan. 17, 2025, heading into the long weekend on a high note as prospects rebounded for additional interest-rate cuts in 2025.\n",
      "The U.S. economy will continue to be the developed world’s best performer in 2025 giving President-elect Donald Trump a running start on his plan to spur faster growth, the International Monetary Fund said.\n",
      "He won the election to fix inflation but Trump may find his pledges on prices and tariffs can't both win out, say experts.\n",
      "Wolfe Herd, executive chair of Bumble, will take the reins from Lidiane Jones, who steps down after a tenure of about a year that was marked by a nearly 50% decline in the company’s shares.\n",
      "None\n",
      "\"It's a sneaky device,\" declared one driver.\n",
      "\n",
      "In a civil complaint filed yesterday in the U.S. District Court for the Northern District of Illinois, the Justice Department alleges that Walgreens Boots Alliance, Walgreen Co. and various subsidiaries (collectively, Walgreens) dispensed millions of unlawful…\n",
      "Federal officials are targeting the blockbuster drugs as part of their ongoing initiative to lower drug costs.\n",
      "Lithium batteries from EVs and hybrids, as well as home-power backups, will require specialized removal in the wake of the Eaton and Palisades fires.\n"
     ]
    }
   ],
   "source": [
    "for news in news_results:\n",
    "    if news == None:\n",
    "        continue\n",
    "    \n",
    "    print(news[\"description\"])\n",
    "    #sentiment = finbert_model_pipe(news[\"description\"])\n",
    "    #news[\"label\"] = sentiment[0][\"label\"]\n",
    "    #news[\"score\"] = sentiment[0][\"score\"]\n",
    "    #doc = nlp(clean_text(news[\"title\"]))\n",
    "    #entities = []\n",
    "    #for ent in doc.ents:\n",
    "    # entities.append({'entity': ent.text, 'type' : ent.label_})\n",
    "    #news[\"tag\"] = entities\n",
    "    "
   ]
  },
  {
   "cell_type": "code",
   "execution_count": null,
   "metadata": {},
   "outputs": [],
   "source": []
  }
 ],
 "metadata": {
  "kernelspec": {
   "display_name": "news_analysis-6M8b-OT_",
   "language": "python",
   "name": "python3"
  },
  "language_info": {
   "codemirror_mode": {
    "name": "ipython",
    "version": 3
   },
   "file_extension": ".py",
   "mimetype": "text/x-python",
   "name": "python",
   "nbconvert_exporter": "python",
   "pygments_lexer": "ipython3",
   "version": "3.12.8"
  }
 },
 "nbformat": 4,
 "nbformat_minor": 2
}
